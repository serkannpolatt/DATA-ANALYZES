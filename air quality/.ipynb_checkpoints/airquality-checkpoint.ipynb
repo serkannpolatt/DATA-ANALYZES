{
 "cells": [
  {
   "cell_type": "code",
   "execution_count": 8,
   "id": "3bfac11b-1525-4c4d-aa2b-0a361d540b5d",
   "metadata": {},
   "outputs": [],
   "source": [
    "import pandas as pd"
   ]
  },
  {
   "cell_type": "code",
   "execution_count": 9,
   "id": "17b4147a-d976-472b-9536-2a9ad05f9327",
   "metadata": {},
   "outputs": [],
   "source": [
    "data=pd.read_csv(\"air-quality-data.csv\")"
   ]
  },
  {
   "cell_type": "code",
   "execution_count": 10,
   "id": "cadbf7cc-b6f0-468e-b05c-380bb82d8af2",
   "metadata": {},
   "outputs": [
    {
     "name": "stdout",
     "output_type": "stream",
     "text": [
      "<class 'pandas.core.frame.DataFrame'>\n",
      "RangeIndex: 31861 entries, 0 to 31860\n",
      "Data columns (total 2 columns):\n",
      " #   Column     Non-Null Count  Dtype  \n",
      "---  ------     --------------  -----  \n",
      " 0   Timestamp  31861 non-null  object \n",
      " 1   PM2.5      31861 non-null  float64\n",
      "dtypes: float64(1), object(1)\n",
      "memory usage: 498.0+ KB\n"
     ]
    }
   ],
   "source": [
    "data.info()"
   ]
  },
  {
   "cell_type": "code",
   "execution_count": 22,
   "id": "75b2b4a7-1257-493b-90ae-17be895fe272",
   "metadata": {},
   "outputs": [],
   "source": [
    "data.rename(columns={'Timestamp': 'DateTime'}, inplace=True)"
   ]
  },
  {
   "cell_type": "code",
   "execution_count": 23,
   "id": "778a611a-dead-4209-a7c1-38a9702ef2a8",
   "metadata": {},
   "outputs": [
    {
     "data": {
      "text/html": [
       "<div><div id=be9ad8af-c5d6-4b99-9879-4d678fe79db4 style=\"display:none; background-color:#9D6CFF; color:white; width:200px; height:30px; padding-left:5px; border-radius:4px; flex-direction:row; justify-content:space-around; align-items:center;\" onmouseover=\"this.style.backgroundColor='#BA9BF8'\" onmouseout=\"this.style.backgroundColor='#9D6CFF'\" onclick=\"window.commands?.execute('create-mitosheet-from-dataframe-output');\">See Full Dataframe in Mito</div> <script> if (window.commands.hasCommand('create-mitosheet-from-dataframe-output')) document.getElementById('be9ad8af-c5d6-4b99-9879-4d678fe79db4').style.display = 'flex' </script> <table border=\"1\" class=\"dataframe\">\n",
       "  <thead>\n",
       "    <tr style=\"text-align: right;\">\n",
       "      <th></th>\n",
       "      <th>DateTime</th>\n",
       "      <th>PM2.5</th>\n",
       "    </tr>\n",
       "  </thead>\n",
       "  <tbody>\n",
       "    <tr>\n",
       "      <th>0</th>\n",
       "      <td>2018-01-01 00:00:00</td>\n",
       "      <td>90.19</td>\n",
       "    </tr>\n",
       "    <tr>\n",
       "      <th>1</th>\n",
       "      <td>2018-01-01 01:00:00</td>\n",
       "      <td>86.98</td>\n",
       "    </tr>\n",
       "    <tr>\n",
       "      <th>2</th>\n",
       "      <td>2018-01-01 02:00:00</td>\n",
       "      <td>86.06</td>\n",
       "    </tr>\n",
       "    <tr>\n",
       "      <th>3</th>\n",
       "      <td>2018-01-01 03:00:00</td>\n",
       "      <td>94.04</td>\n",
       "    </tr>\n",
       "    <tr>\n",
       "      <th>4</th>\n",
       "      <td>2018-01-01 04:00:00</td>\n",
       "      <td>108.78</td>\n",
       "    </tr>\n",
       "  </tbody>\n",
       "</table></div>"
      ],
      "text/plain": [
       "             DateTime   PM2.5\n",
       "0 2018-01-01 00:00:00   90.19\n",
       "1 2018-01-01 01:00:00   86.98\n",
       "2 2018-01-01 02:00:00   86.06\n",
       "3 2018-01-01 03:00:00   94.04\n",
       "4 2018-01-01 04:00:00  108.78"
      ]
     },
     "execution_count": 23,
     "metadata": {},
     "output_type": "execute_result"
    }
   ],
   "source": [
    "data.head()"
   ]
  },
  {
   "cell_type": "code",
   "execution_count": 25,
   "id": "418ede77-2f83-441f-957e-5bd97576fdfa",
   "metadata": {},
   "outputs": [],
   "source": [
    "data[\"DateTime\"]=pd.to_datetime(data[\"DateTime\"]) #to convert a column datatype in Timestamp format"
   ]
  },
  {
   "cell_type": "code",
   "execution_count": 26,
   "id": "e386b169-543a-4503-a876-5b8fa1434ea4",
   "metadata": {},
   "outputs": [
    {
     "name": "stdout",
     "output_type": "stream",
     "text": [
      "<class 'pandas.core.frame.DataFrame'>\n",
      "RangeIndex: 31861 entries, 0 to 31860\n",
      "Data columns (total 2 columns):\n",
      " #   Column    Non-Null Count  Dtype         \n",
      "---  ------    --------------  -----         \n",
      " 0   DateTime  31861 non-null  datetime64[ns]\n",
      " 1   PM2.5     31861 non-null  float64       \n",
      "dtypes: datetime64[ns](1), float64(1)\n",
      "memory usage: 498.0 KB\n"
     ]
    }
   ],
   "source": [
    "data.info()"
   ]
  },
  {
   "cell_type": "code",
   "execution_count": null,
   "id": "563383e9-9d1a-4ae4-8af3-8271b6ebe598",
   "metadata": {},
   "outputs": [],
   "source": []
  },
  {
   "cell_type": "markdown",
   "id": "323dd042-a98f-4993-af0b-f384da00781b",
   "metadata": {},
   "source": [
    "Show the Year-wise average pollution with a Line chart\n",
    "\n",
    "Çizgi grafiği ile Yıl bazında ortalama kirliliği gösterin"
   ]
  },
  {
   "cell_type": "code",
   "execution_count": 27,
   "id": "12ffebdb-8339-4d22-807e-5aa4e149bdcb",
   "metadata": {},
   "outputs": [
    {
     "data": {
      "text/html": [
       "<div><div id=c32db2a5-83d3-4e0b-9bbb-7bcbc4c1b2a6 style=\"display:none; background-color:#9D6CFF; color:white; width:200px; height:30px; padding-left:5px; border-radius:4px; flex-direction:row; justify-content:space-around; align-items:center;\" onmouseover=\"this.style.backgroundColor='#BA9BF8'\" onmouseout=\"this.style.backgroundColor='#9D6CFF'\" onclick=\"window.commands?.execute('create-mitosheet-from-dataframe-output');\">See Full Dataframe in Mito</div> <script> if (window.commands.hasCommand('create-mitosheet-from-dataframe-output')) document.getElementById('c32db2a5-83d3-4e0b-9bbb-7bcbc4c1b2a6').style.display = 'flex' </script> <table border=\"1\" class=\"dataframe\">\n",
       "  <thead>\n",
       "    <tr style=\"text-align: right;\">\n",
       "      <th></th>\n",
       "      <th>DateTime</th>\n",
       "      <th>PM2.5</th>\n",
       "    </tr>\n",
       "  </thead>\n",
       "  <tbody>\n",
       "    <tr>\n",
       "      <th>0</th>\n",
       "      <td>2018-01-01 00:00:00</td>\n",
       "      <td>90.19</td>\n",
       "    </tr>\n",
       "    <tr>\n",
       "      <th>1</th>\n",
       "      <td>2018-01-01 01:00:00</td>\n",
       "      <td>86.98</td>\n",
       "    </tr>\n",
       "    <tr>\n",
       "      <th>2</th>\n",
       "      <td>2018-01-01 02:00:00</td>\n",
       "      <td>86.06</td>\n",
       "    </tr>\n",
       "    <tr>\n",
       "      <th>3</th>\n",
       "      <td>2018-01-01 03:00:00</td>\n",
       "      <td>94.04</td>\n",
       "    </tr>\n",
       "    <tr>\n",
       "      <th>4</th>\n",
       "      <td>2018-01-01 04:00:00</td>\n",
       "      <td>108.78</td>\n",
       "    </tr>\n",
       "  </tbody>\n",
       "</table></div>"
      ],
      "text/plain": [
       "             DateTime   PM2.5\n",
       "0 2018-01-01 00:00:00   90.19\n",
       "1 2018-01-01 01:00:00   86.98\n",
       "2 2018-01-01 02:00:00   86.06\n",
       "3 2018-01-01 03:00:00   94.04\n",
       "4 2018-01-01 04:00:00  108.78"
      ]
     },
     "execution_count": 27,
     "metadata": {},
     "output_type": "execute_result"
    }
   ],
   "source": [
    "data.head()"
   ]
  },
  {
   "cell_type": "code",
   "execution_count": 28,
   "id": "cda35043-eae7-4cec-80cf-a12252998fc1",
   "metadata": {},
   "outputs": [],
   "source": [
    "data[\"Year\"]=data.DateTime.dt.year"
   ]
  },
  {
   "cell_type": "code",
   "execution_count": 29,
   "id": "f52f0815-0677-4415-8c86-0434eb9445ee",
   "metadata": {},
   "outputs": [
    {
     "data": {
      "text/html": [
       "<div><div id=3bfd9fe7-4f0e-4158-b37f-f0be5e9c14e6 style=\"display:none; background-color:#9D6CFF; color:white; width:200px; height:30px; padding-left:5px; border-radius:4px; flex-direction:row; justify-content:space-around; align-items:center;\" onmouseover=\"this.style.backgroundColor='#BA9BF8'\" onmouseout=\"this.style.backgroundColor='#9D6CFF'\" onclick=\"window.commands?.execute('create-mitosheet-from-dataframe-output');\">See Full Dataframe in Mito</div> <script> if (window.commands.hasCommand('create-mitosheet-from-dataframe-output')) document.getElementById('3bfd9fe7-4f0e-4158-b37f-f0be5e9c14e6').style.display = 'flex' </script> <table border=\"1\" class=\"dataframe\">\n",
       "  <thead>\n",
       "    <tr style=\"text-align: right;\">\n",
       "      <th></th>\n",
       "      <th>DateTime</th>\n",
       "      <th>PM2.5</th>\n",
       "      <th>Year</th>\n",
       "    </tr>\n",
       "  </thead>\n",
       "  <tbody>\n",
       "    <tr>\n",
       "      <th>0</th>\n",
       "      <td>2018-01-01 00:00:00</td>\n",
       "      <td>90.19</td>\n",
       "      <td>2018</td>\n",
       "    </tr>\n",
       "    <tr>\n",
       "      <th>1</th>\n",
       "      <td>2018-01-01 01:00:00</td>\n",
       "      <td>86.98</td>\n",
       "      <td>2018</td>\n",
       "    </tr>\n",
       "    <tr>\n",
       "      <th>2</th>\n",
       "      <td>2018-01-01 02:00:00</td>\n",
       "      <td>86.06</td>\n",
       "      <td>2018</td>\n",
       "    </tr>\n",
       "    <tr>\n",
       "      <th>3</th>\n",
       "      <td>2018-01-01 03:00:00</td>\n",
       "      <td>94.04</td>\n",
       "      <td>2018</td>\n",
       "    </tr>\n",
       "    <tr>\n",
       "      <th>4</th>\n",
       "      <td>2018-01-01 04:00:00</td>\n",
       "      <td>108.78</td>\n",
       "      <td>2018</td>\n",
       "    </tr>\n",
       "    <tr>\n",
       "      <th>...</th>\n",
       "      <td>...</td>\n",
       "      <td>...</td>\n",
       "      <td>...</td>\n",
       "    </tr>\n",
       "    <tr>\n",
       "      <th>31856</th>\n",
       "      <td>2021-12-31 19:00:00</td>\n",
       "      <td>72.25</td>\n",
       "      <td>2021</td>\n",
       "    </tr>\n",
       "    <tr>\n",
       "      <th>31857</th>\n",
       "      <td>2021-12-31 20:00:00</td>\n",
       "      <td>71.56</td>\n",
       "      <td>2021</td>\n",
       "    </tr>\n",
       "    <tr>\n",
       "      <th>31858</th>\n",
       "      <td>2021-12-31 21:00:00</td>\n",
       "      <td>70.27</td>\n",
       "      <td>2021</td>\n",
       "    </tr>\n",
       "    <tr>\n",
       "      <th>31859</th>\n",
       "      <td>2021-12-31 22:00:00</td>\n",
       "      <td>66.78</td>\n",
       "      <td>2021</td>\n",
       "    </tr>\n",
       "    <tr>\n",
       "      <th>31860</th>\n",
       "      <td>2021-12-31 23:00:00</td>\n",
       "      <td>61.29</td>\n",
       "      <td>2021</td>\n",
       "    </tr>\n",
       "  </tbody>\n",
       "</table></div>"
      ],
      "text/plain": [
       "                 DateTime   PM2.5  Year\n",
       "0     2018-01-01 00:00:00   90.19  2018\n",
       "1     2018-01-01 01:00:00   86.98  2018\n",
       "2     2018-01-01 02:00:00   86.06  2018\n",
       "3     2018-01-01 03:00:00   94.04  2018\n",
       "4     2018-01-01 04:00:00  108.78  2018\n",
       "...                   ...     ...   ...\n",
       "31856 2021-12-31 19:00:00   72.25  2021\n",
       "31857 2021-12-31 20:00:00   71.56  2021\n",
       "31858 2021-12-31 21:00:00   70.27  2021\n",
       "31859 2021-12-31 22:00:00   66.78  2021\n",
       "31860 2021-12-31 23:00:00   61.29  2021\n",
       "\n",
       "[31861 rows x 3 columns]"
      ]
     },
     "execution_count": 29,
     "metadata": {},
     "output_type": "execute_result"
    }
   ],
   "source": [
    "data"
   ]
  },
  {
   "cell_type": "code",
   "execution_count": 30,
   "id": "5882c55c-551c-4826-8f3c-c013cd907d30",
   "metadata": {},
   "outputs": [],
   "source": [
    "year_avg=data.groupby(\"Year\")[\"PM2.5\"].mean()"
   ]
  },
  {
   "cell_type": "code",
   "execution_count": 31,
   "id": "9306cd39-f6bb-4837-927d-f19256c5c022",
   "metadata": {},
   "outputs": [
    {
     "data": {
      "text/plain": [
       "Year\n",
       "2018    54.468449\n",
       "2019    49.511273\n",
       "2020    42.386302\n",
       "2021    44.850633\n",
       "Name: PM2.5, dtype: float64"
      ]
     },
     "execution_count": 31,
     "metadata": {},
     "output_type": "execute_result"
    }
   ],
   "source": [
    "year_avg"
   ]
  },
  {
   "cell_type": "code",
   "execution_count": 34,
   "id": "52d1b9db-0815-4ed3-8928-bfb27daa753a",
   "metadata": {},
   "outputs": [
    {
     "data": {
      "text/plain": [
       "<AxesSubplot:xlabel='Year'>"
      ]
     },
     "execution_count": 34,
     "metadata": {},
     "output_type": "execute_result"
    },
    {
     "data": {
      "image/png": "[encoded data removed]",
      "text/plain": [
       "<Figure size 1080x360 with 1 Axes>"
      ]
     },
     "metadata": {
      "needs_background": "light"
     },
     "output_type": "display_data"
    }
   ],
   "source": [
    "year_avg.plot(kind=\"line\",figsize=(15,5))"
   ]
  },
  {
   "cell_type": "code",
   "execution_count": 35,
   "id": "af4ce25d-8e23-44ce-be1f-d47cf76a2f69",
   "metadata": {},
   "outputs": [
    {
     "data": {
      "text/plain": [
       "<AxesSubplot:xlabel='Year'>"
      ]
     },
     "execution_count": 35,
     "metadata": {},
     "output_type": "execute_result"
    },
    {
     "data": {
      "image/png": "[encoded data removed]",
      "text/plain": [
       "<Figure size 1080x360 with 1 Axes>"
      ]
     },
     "metadata": {
      "needs_background": "light"
     },
     "output_type": "display_data"
    }
   ],
   "source": [
    "year_avg.plot(kind=\"line\",figsize=(15,5),style=\"*\")"
   ]
  },
  {
   "cell_type": "code",
   "execution_count": null,
   "id": "faf9b85e-59ae-4556-a10b-3cbc6008fac1",
   "metadata": {},
   "outputs": [],
   "source": []
  },
  {
   "cell_type": "markdown",
   "id": "7ddaf90e-8f5e-49eb-80a2-2e915141c6e5",
   "metadata": {},
   "source": [
    "Draw the Area plot showing the average pollution Month wise.\n",
    "\n",
    "Aylık ortalama kirliliği gösteren Alan grafiğini çizin."
   ]
  },
  {
   "cell_type": "code",
   "execution_count": 36,
   "id": "0b114d29-edca-4ced-98df-b419f9617a08",
   "metadata": {},
   "outputs": [
    {
     "data": {
      "text/html": [
       "<div><div id=7507f9d2-4462-4028-a28e-5453f3433862 style=\"display:none; background-color:#9D6CFF; color:white; width:200px; height:30px; padding-left:5px; border-radius:4px; flex-direction:row; justify-content:space-around; align-items:center;\" onmouseover=\"this.style.backgroundColor='#BA9BF8'\" onmouseout=\"this.style.backgroundColor='#9D6CFF'\" onclick=\"window.commands?.execute('create-mitosheet-from-dataframe-output');\">See Full Dataframe in Mito</div> <script> if (window.commands.hasCommand('create-mitosheet-from-dataframe-output')) document.getElementById('7507f9d2-4462-4028-a28e-5453f3433862').style.display = 'flex' </script> <table border=\"1\" class=\"dataframe\">\n",
       "  <thead>\n",
       "    <tr style=\"text-align: right;\">\n",
       "      <th></th>\n",
       "      <th>DateTime</th>\n",
       "      <th>PM2.5</th>\n",
       "      <th>Year</th>\n",
       "    </tr>\n",
       "  </thead>\n",
       "  <tbody>\n",
       "    <tr>\n",
       "      <th>0</th>\n",
       "      <td>2018-01-01 00:00:00</td>\n",
       "      <td>90.19</td>\n",
       "      <td>2018</td>\n",
       "    </tr>\n",
       "    <tr>\n",
       "      <th>1</th>\n",
       "      <td>2018-01-01 01:00:00</td>\n",
       "      <td>86.98</td>\n",
       "      <td>2018</td>\n",
       "    </tr>\n",
       "    <tr>\n",
       "      <th>2</th>\n",
       "      <td>2018-01-01 02:00:00</td>\n",
       "      <td>86.06</td>\n",
       "      <td>2018</td>\n",
       "    </tr>\n",
       "    <tr>\n",
       "      <th>3</th>\n",
       "      <td>2018-01-01 03:00:00</td>\n",
       "      <td>94.04</td>\n",
       "      <td>2018</td>\n",
       "    </tr>\n",
       "    <tr>\n",
       "      <th>4</th>\n",
       "      <td>2018-01-01 04:00:00</td>\n",
       "      <td>108.78</td>\n",
       "      <td>2018</td>\n",
       "    </tr>\n",
       "  </tbody>\n",
       "</table></div>"
      ],
      "text/plain": [
       "             DateTime   PM2.5  Year\n",
       "0 2018-01-01 00:00:00   90.19  2018\n",
       "1 2018-01-01 01:00:00   86.98  2018\n",
       "2 2018-01-01 02:00:00   86.06  2018\n",
       "3 2018-01-01 03:00:00   94.04  2018\n",
       "4 2018-01-01 04:00:00  108.78  2018"
      ]
     },
     "execution_count": 36,
     "metadata": {},
     "output_type": "execute_result"
    }
   ],
   "source": [
    "data.head()"
   ]
  },
  {
   "cell_type": "code",
   "execution_count": 37,
   "id": "01add10c-76d4-4aa7-9811-4c39adb7ef3a",
   "metadata": {},
   "outputs": [],
   "source": [
    "data[\"Month\"]=data.DateTime.dt.month"
   ]
  },
  {
   "cell_type": "code",
   "execution_count": 38,
   "id": "520ca075-80b7-4cca-be17-34e4eae66642",
   "metadata": {},
   "outputs": [
    {
     "data": {
      "text/html": [
       "<div><div id=8fc45cdd-2756-4d4f-b91c-ecb2325e46d1 style=\"display:none; background-color:#9D6CFF; color:white; width:200px; height:30px; padding-left:5px; border-radius:4px; flex-direction:row; justify-content:space-around; align-items:center;\" onmouseover=\"this.style.backgroundColor='#BA9BF8'\" onmouseout=\"this.style.backgroundColor='#9D6CFF'\" onclick=\"window.commands?.execute('create-mitosheet-from-dataframe-output');\">See Full Dataframe in Mito</div> <script> if (window.commands.hasCommand('create-mitosheet-from-dataframe-output')) document.getElementById('8fc45cdd-2756-4d4f-b91c-ecb2325e46d1').style.display = 'flex' </script> <table border=\"1\" class=\"dataframe\">\n",
       "  <thead>\n",
       "    <tr style=\"text-align: right;\">\n",
       "      <th></th>\n",
       "      <th>DateTime</th>\n",
       "      <th>PM2.5</th>\n",
       "      <th>Year</th>\n",
       "      <th>Month</th>\n",
       "    </tr>\n",
       "  </thead>\n",
       "  <tbody>\n",
       "    <tr>\n",
       "      <th>0</th>\n",
       "      <td>2018-01-01 00:00:00</td>\n",
       "      <td>90.19</td>\n",
       "      <td>2018</td>\n",
       "      <td>1</td>\n",
       "    </tr>\n",
       "    <tr>\n",
       "      <th>1</th>\n",
       "      <td>2018-01-01 01:00:00</td>\n",
       "      <td>86.98</td>\n",
       "      <td>2018</td>\n",
       "      <td>1</td>\n",
       "    </tr>\n",
       "    <tr>\n",
       "      <th>2</th>\n",
       "      <td>2018-01-01 02:00:00</td>\n",
       "      <td>86.06</td>\n",
       "      <td>2018</td>\n",
       "      <td>1</td>\n",
       "    </tr>\n",
       "    <tr>\n",
       "      <th>3</th>\n",
       "      <td>2018-01-01 03:00:00</td>\n",
       "      <td>94.04</td>\n",
       "      <td>2018</td>\n",
       "      <td>1</td>\n",
       "    </tr>\n",
       "    <tr>\n",
       "      <th>4</th>\n",
       "      <td>2018-01-01 04:00:00</td>\n",
       "      <td>108.78</td>\n",
       "      <td>2018</td>\n",
       "      <td>1</td>\n",
       "    </tr>\n",
       "  </tbody>\n",
       "</table></div>"
      ],
      "text/plain": [
       "             DateTime   PM2.5  Year  Month\n",
       "0 2018-01-01 00:00:00   90.19  2018      1\n",
       "1 2018-01-01 01:00:00   86.98  2018      1\n",
       "2 2018-01-01 02:00:00   86.06  2018      1\n",
       "3 2018-01-01 03:00:00   94.04  2018      1\n",
       "4 2018-01-01 04:00:00  108.78  2018      1"
      ]
     },
     "execution_count": 38,
     "metadata": {},
     "output_type": "execute_result"
    }
   ],
   "source": [
    "data.head()"
   ]
  },
  {
   "cell_type": "code",
   "execution_count": 39,
   "id": "6d1db283-3500-44f7-93e8-387c550749b4",
   "metadata": {},
   "outputs": [],
   "source": [
    "month_avg=data.groupby(\"Month\")[\"PM2.5\"].mean()"
   ]
  },
  {
   "cell_type": "code",
   "execution_count": 40,
   "id": "91a591e1-2036-4205-82c9-d86fe662eeab",
   "metadata": {},
   "outputs": [
    {
     "data": {
      "text/plain": [
       "Month\n",
       "1     65.829067\n",
       "2     55.264291\n",
       "3     49.666820\n",
       "4     43.625814\n",
       "5     39.816285\n",
       "6     35.817151\n",
       "7     31.884161\n",
       "8     31.928300\n",
       "9     36.324103\n",
       "10    51.514817\n",
       "11    60.017498\n",
       "12    64.614865\n",
       "Name: PM2.5, dtype: float64"
      ]
     },
     "execution_count": 40,
     "metadata": {},
     "output_type": "execute_result"
    }
   ],
   "source": [
    "month_avg"
   ]
  },
  {
   "cell_type": "code",
   "execution_count": 41,
   "id": "487b3709-4615-48bc-b2d4-87fe42f6ceac",
   "metadata": {},
   "outputs": [
    {
     "data": {
      "image/png": "[encoded data removed]",
      "text/plain": [
       "<Figure size 864x360 with 1 Axes>"
      ]
     },
     "metadata": {
      "needs_background": "light"
     },
     "output_type": "display_data"
    }
   ],
   "source": [
    "month_avg.plot(kind=\"area\",figsize=(12,5));"
   ]
  },
  {
   "cell_type": "code",
   "execution_count": 42,
   "id": "f24537a3-ee92-45f3-b04e-ff4bf56ac301",
   "metadata": {},
   "outputs": [
    {
     "data": {
      "image/png": "[encoded data removed]",
      "text/plain": [
       "<Figure size 864x360 with 1 Axes>"
      ]
     },
     "metadata": {
      "needs_background": "light"
     },
     "output_type": "display_data"
    }
   ],
   "source": [
    "month_avg.plot(kind=\"area\",figsize=(12,5),color=\"black\");"
   ]
  },
  {
   "cell_type": "markdown",
   "id": "b85bba10-08d9-48b2-a717-6519e51cc097",
   "metadata": {},
   "source": []
  },
  {
   "cell_type": "markdown",
   "id": "8ee05418-2f79-4e0e-889f-0e1c4cfbba20",
   "metadata": {},
   "source": [
    "Draw a Bar graph to show the Hour-wise average pollution\n",
    "\n",
    "Saat bazında ortalama kirliliği göstermek için bir Çubuk grafik çizin"
   ]
  },
  {
   "cell_type": "code",
   "execution_count": 44,
   "id": "d2fff08e-1193-4d21-933f-d80eb104cf57",
   "metadata": {},
   "outputs": [
    {
     "data": {
      "text/html": [
       "<div><div id=9961f22e-f3ab-460a-af77-31464ee81846 style=\"display:none; background-color:#9D6CFF; color:white; width:200px; height:30px; padding-left:5px; border-radius:4px; flex-direction:row; justify-content:space-around; align-items:center;\" onmouseover=\"this.style.backgroundColor='#BA9BF8'\" onmouseout=\"this.style.backgroundColor='#9D6CFF'\" onclick=\"window.commands?.execute('create-mitosheet-from-dataframe-output');\">See Full Dataframe in Mito</div> <script> if (window.commands.hasCommand('create-mitosheet-from-dataframe-output')) document.getElementById('9961f22e-f3ab-460a-af77-31464ee81846').style.display = 'flex' </script> <table border=\"1\" class=\"dataframe\">\n",
       "  <thead>\n",
       "    <tr style=\"text-align: right;\">\n",
       "      <th></th>\n",
       "      <th>DateTime</th>\n",
       "      <th>PM2.5</th>\n",
       "      <th>Year</th>\n",
       "      <th>Month</th>\n",
       "    </tr>\n",
       "  </thead>\n",
       "  <tbody>\n",
       "    <tr>\n",
       "      <th>0</th>\n",
       "      <td>2018-01-01 00:00:00</td>\n",
       "      <td>90.19</td>\n",
       "      <td>2018</td>\n",
       "      <td>1</td>\n",
       "    </tr>\n",
       "    <tr>\n",
       "      <th>1</th>\n",
       "      <td>2018-01-01 01:00:00</td>\n",
       "      <td>86.98</td>\n",
       "      <td>2018</td>\n",
       "      <td>1</td>\n",
       "    </tr>\n",
       "    <tr>\n",
       "      <th>2</th>\n",
       "      <td>2018-01-01 02:00:00</td>\n",
       "      <td>86.06</td>\n",
       "      <td>2018</td>\n",
       "      <td>1</td>\n",
       "    </tr>\n",
       "    <tr>\n",
       "      <th>3</th>\n",
       "      <td>2018-01-01 03:00:00</td>\n",
       "      <td>94.04</td>\n",
       "      <td>2018</td>\n",
       "      <td>1</td>\n",
       "    </tr>\n",
       "    <tr>\n",
       "      <th>4</th>\n",
       "      <td>2018-01-01 04:00:00</td>\n",
       "      <td>108.78</td>\n",
       "      <td>2018</td>\n",
       "      <td>1</td>\n",
       "    </tr>\n",
       "  </tbody>\n",
       "</table></div>"
      ],
      "text/plain": [
       "             DateTime   PM2.5  Year  Month\n",
       "0 2018-01-01 00:00:00   90.19  2018      1\n",
       "1 2018-01-01 01:00:00   86.98  2018      1\n",
       "2 2018-01-01 02:00:00   86.06  2018      1\n",
       "3 2018-01-01 03:00:00   94.04  2018      1\n",
       "4 2018-01-01 04:00:00  108.78  2018      1"
      ]
     },
     "execution_count": 44,
     "metadata": {},
     "output_type": "execute_result"
    }
   ],
   "source": [
    "data.head()"
   ]
  },
  {
   "cell_type": "code",
   "execution_count": 45,
   "id": "1653037c-5e5b-4f37-a027-14db7a4e055b",
   "metadata": {},
   "outputs": [],
   "source": [
    "data[\"Hour\"]=data.DateTime.dt.hour"
   ]
  },
  {
   "cell_type": "code",
   "execution_count": 46,
   "id": "f3b91a45-66af-422f-8118-0c4df46807fb",
   "metadata": {},
   "outputs": [
    {
     "data": {
      "text/html": [
       "<div><div id=379717b5-f1c1-4335-9e03-e9193d2194d7 style=\"display:none; background-color:#9D6CFF; color:white; width:200px; height:30px; padding-left:5px; border-radius:4px; flex-direction:row; justify-content:space-around; align-items:center;\" onmouseover=\"this.style.backgroundColor='#BA9BF8'\" onmouseout=\"this.style.backgroundColor='#9D6CFF'\" onclick=\"window.commands?.execute('create-mitosheet-from-dataframe-output');\">See Full Dataframe in Mito</div> <script> if (window.commands.hasCommand('create-mitosheet-from-dataframe-output')) document.getElementById('379717b5-f1c1-4335-9e03-e9193d2194d7').style.display = 'flex' </script> <table border=\"1\" class=\"dataframe\">\n",
       "  <thead>\n",
       "    <tr style=\"text-align: right;\">\n",
       "      <th></th>\n",
       "      <th>DateTime</th>\n",
       "      <th>PM2.5</th>\n",
       "      <th>Year</th>\n",
       "      <th>Month</th>\n",
       "      <th>Hour</th>\n",
       "    </tr>\n",
       "  </thead>\n",
       "  <tbody>\n",
       "    <tr>\n",
       "      <th>0</th>\n",
       "      <td>2018-01-01 00:00:00</td>\n",
       "      <td>90.19</td>\n",
       "      <td>2018</td>\n",
       "      <td>1</td>\n",
       "      <td>0</td>\n",
       "    </tr>\n",
       "    <tr>\n",
       "      <th>1</th>\n",
       "      <td>2018-01-01 01:00:00</td>\n",
       "      <td>86.98</td>\n",
       "      <td>2018</td>\n",
       "      <td>1</td>\n",
       "      <td>1</td>\n",
       "    </tr>\n",
       "    <tr>\n",
       "      <th>2</th>\n",
       "      <td>2018-01-01 02:00:00</td>\n",
       "      <td>86.06</td>\n",
       "      <td>2018</td>\n",
       "      <td>1</td>\n",
       "      <td>2</td>\n",
       "    </tr>\n",
       "    <tr>\n",
       "      <th>3</th>\n",
       "      <td>2018-01-01 03:00:00</td>\n",
       "      <td>94.04</td>\n",
       "      <td>2018</td>\n",
       "      <td>1</td>\n",
       "      <td>3</td>\n",
       "    </tr>\n",
       "    <tr>\n",
       "      <th>4</th>\n",
       "      <td>2018-01-01 04:00:00</td>\n",
       "      <td>108.78</td>\n",
       "      <td>2018</td>\n",
       "      <td>1</td>\n",
       "      <td>4</td>\n",
       "    </tr>\n",
       "  </tbody>\n",
       "</table></div>"
      ],
      "text/plain": [
       "             DateTime   PM2.5  Year  Month  Hour\n",
       "0 2018-01-01 00:00:00   90.19  2018      1     0\n",
       "1 2018-01-01 01:00:00   86.98  2018      1     1\n",
       "2 2018-01-01 02:00:00   86.06  2018      1     2\n",
       "3 2018-01-01 03:00:00   94.04  2018      1     3\n",
       "4 2018-01-01 04:00:00  108.78  2018      1     4"
      ]
     },
     "execution_count": 46,
     "metadata": {},
     "output_type": "execute_result"
    }
   ],
   "source": [
    "data.head()"
   ]
  },
  {
   "cell_type": "code",
   "execution_count": 47,
   "id": "f32ae363-b08e-40d5-976b-a9bafea9a197",
   "metadata": {},
   "outputs": [],
   "source": [
    "hour_avg=data.groupby(\"Hour\")[\"PM2.5\"].mean()"
   ]
  },
  {
   "cell_type": "code",
   "execution_count": 48,
   "id": "83934ee8-5199-45e3-9f1a-88844db0c478",
   "metadata": {},
   "outputs": [
    {
     "data": {
      "text/plain": [
       "Hour\n",
       "0     47.068769\n",
       "1     46.403946\n",
       "2     46.952281\n",
       "3     49.150798\n",
       "4     51.296204\n",
       "5     51.908798\n",
       "6     49.907545\n",
       "7     47.518554\n",
       "8     44.996127\n",
       "9     42.681736\n",
       "10    40.931766\n",
       "11    39.393820\n",
       "12    38.789992\n",
       "13    39.323346\n",
       "14    42.638162\n",
       "15    47.500464\n",
       "16    51.244844\n",
       "17    53.669757\n",
       "18    54.317363\n",
       "19    54.120371\n",
       "20    52.784130\n",
       "21    51.383525\n",
       "22    49.940615\n",
       "23    48.538064\n",
       "Name: PM2.5, dtype: float64"
      ]
     },
     "execution_count": 48,
     "metadata": {},
     "output_type": "execute_result"
    }
   ],
   "source": [
    "hour_avg"
   ]
  },
  {
   "cell_type": "code",
   "execution_count": 53,
   "id": "69dd5e0d-12db-47e6-9ea5-6ab6dcf059c6",
   "metadata": {},
   "outputs": [
    {
     "data": {
      "text/plain": [
       "<AxesSubplot:xlabel='Hour'>"
      ]
     },
     "execution_count": 53,
     "metadata": {},
     "output_type": "execute_result"
    },
    {
     "data": {
      "image/png": "[encoded data removed]",
      "text/plain": [
       "<Figure size 1368x576 with 1 Axes>"
      ]
     },
     "metadata": {
      "needs_background": "light"
     },
     "output_type": "display_data"
    }
   ],
   "source": [
    "hour_avg.plot(kind=\"bar\",figsize=(19,8),color=\"purple\")"
   ]
  },
  {
   "cell_type": "code",
   "execution_count": null,
   "id": "fe10b0e6-f890-4353-bde2-d5d28e430b8e",
   "metadata": {},
   "outputs": [],
   "source": []
  },
  {
   "cell_type": "markdown",
   "id": "d558ddb9-211d-4795-9831-9389e6e207ff",
   "metadata": {},
   "source": [
    "Usually in which months,the air was recorded \"Very Unhealthy\".\n",
    "\n",
    "Genellikle hangi aylarda hava \"Çok Sağlıksız\" olarak kaydedilmiştir."
   ]
  },
  {
   "cell_type": "code",
   "execution_count": 54,
   "id": "18b9a5ef-82b4-4fdb-aa1b-515841df19d4",
   "metadata": {},
   "outputs": [
    {
     "data": {
      "text/html": [
       "<div><div id=2f6777f4-11a1-4311-8aec-6a7742d23bba style=\"display:none; background-color:#9D6CFF; color:white; width:200px; height:30px; padding-left:5px; border-radius:4px; flex-direction:row; justify-content:space-around; align-items:center;\" onmouseover=\"this.style.backgroundColor='#BA9BF8'\" onmouseout=\"this.style.backgroundColor='#9D6CFF'\" onclick=\"window.commands?.execute('create-mitosheet-from-dataframe-output');\">See Full Dataframe in Mito</div> <script> if (window.commands.hasCommand('create-mitosheet-from-dataframe-output')) document.getElementById('2f6777f4-11a1-4311-8aec-6a7742d23bba').style.display = 'flex' </script> <table border=\"1\" class=\"dataframe\">\n",
       "  <thead>\n",
       "    <tr style=\"text-align: right;\">\n",
       "      <th></th>\n",
       "      <th>DateTime</th>\n",
       "      <th>PM2.5</th>\n",
       "      <th>Year</th>\n",
       "      <th>Month</th>\n",
       "      <th>Hour</th>\n",
       "    </tr>\n",
       "  </thead>\n",
       "  <tbody>\n",
       "    <tr>\n",
       "      <th>0</th>\n",
       "      <td>2018-01-01 00:00:00</td>\n",
       "      <td>90.19</td>\n",
       "      <td>2018</td>\n",
       "      <td>1</td>\n",
       "      <td>0</td>\n",
       "    </tr>\n",
       "    <tr>\n",
       "      <th>1</th>\n",
       "      <td>2018-01-01 01:00:00</td>\n",
       "      <td>86.98</td>\n",
       "      <td>2018</td>\n",
       "      <td>1</td>\n",
       "      <td>1</td>\n",
       "    </tr>\n",
       "    <tr>\n",
       "      <th>2</th>\n",
       "      <td>2018-01-01 02:00:00</td>\n",
       "      <td>86.06</td>\n",
       "      <td>2018</td>\n",
       "      <td>1</td>\n",
       "      <td>2</td>\n",
       "    </tr>\n",
       "    <tr>\n",
       "      <th>3</th>\n",
       "      <td>2018-01-01 03:00:00</td>\n",
       "      <td>94.04</td>\n",
       "      <td>2018</td>\n",
       "      <td>1</td>\n",
       "      <td>3</td>\n",
       "    </tr>\n",
       "    <tr>\n",
       "      <th>4</th>\n",
       "      <td>2018-01-01 04:00:00</td>\n",
       "      <td>108.78</td>\n",
       "      <td>2018</td>\n",
       "      <td>1</td>\n",
       "      <td>4</td>\n",
       "    </tr>\n",
       "  </tbody>\n",
       "</table></div>"
      ],
      "text/plain": [
       "             DateTime   PM2.5  Year  Month  Hour\n",
       "0 2018-01-01 00:00:00   90.19  2018      1     0\n",
       "1 2018-01-01 01:00:00   86.98  2018      1     1\n",
       "2 2018-01-01 02:00:00   86.06  2018      1     2\n",
       "3 2018-01-01 03:00:00   94.04  2018      1     3\n",
       "4 2018-01-01 04:00:00  108.78  2018      1     4"
      ]
     },
     "execution_count": 54,
     "metadata": {},
     "output_type": "execute_result"
    }
   ],
   "source": [
    "data.head()"
   ]
  },
  {
   "cell_type": "code",
   "execution_count": 58,
   "id": "4fb116ec-d5a7-48c9-84ba-e06ecc9ff21c",
   "metadata": {},
   "outputs": [],
   "source": [
    "x=data[(data[\"PM2.5\"]>=150.5) & (data[\"PM2.5\"]<=250.4)]"
   ]
  },
  {
   "cell_type": "code",
   "execution_count": 59,
   "id": "0cfcb7f8-5735-445d-b798-616433130bbd",
   "metadata": {},
   "outputs": [
    {
     "data": {
      "text/html": [
       "<div><div id=ea618d1d-c02a-446b-a835-52d568425435 style=\"display:none; background-color:#9D6CFF; color:white; width:200px; height:30px; padding-left:5px; border-radius:4px; flex-direction:row; justify-content:space-around; align-items:center;\" onmouseover=\"this.style.backgroundColor='#BA9BF8'\" onmouseout=\"this.style.backgroundColor='#9D6CFF'\" onclick=\"window.commands?.execute('create-mitosheet-from-dataframe-output');\">See Full Dataframe in Mito</div> <script> if (window.commands.hasCommand('create-mitosheet-from-dataframe-output')) document.getElementById('ea618d1d-c02a-446b-a835-52d568425435').style.display = 'flex' </script> <table border=\"1\" class=\"dataframe\">\n",
       "  <thead>\n",
       "    <tr style=\"text-align: right;\">\n",
       "      <th></th>\n",
       "      <th>DateTime</th>\n",
       "      <th>PM2.5</th>\n",
       "      <th>Year</th>\n",
       "      <th>Month</th>\n",
       "      <th>Hour</th>\n",
       "    </tr>\n",
       "  </thead>\n",
       "  <tbody>\n",
       "    <tr>\n",
       "      <th>6</th>\n",
       "      <td>2018-01-06 17:00:00</td>\n",
       "      <td>150.89</td>\n",
       "      <td>2018</td>\n",
       "      <td>1</td>\n",
       "      <td>17</td>\n",
       "    </tr>\n",
       "    <tr>\n",
       "      <th>7</th>\n",
       "      <td>2018-11-07 21:00:00</td>\n",
       "      <td>245.63</td>\n",
       "      <td>2018</td>\n",
       "      <td>11</td>\n",
       "      <td>21</td>\n",
       "    </tr>\n",
       "    <tr>\n",
       "      <th>8</th>\n",
       "      <td>2018-11-08 00:00:00</td>\n",
       "      <td>175.19</td>\n",
       "      <td>2018</td>\n",
       "      <td>11</td>\n",
       "      <td>0</td>\n",
       "    </tr>\n",
       "    <tr>\n",
       "      <th>31</th>\n",
       "      <td>2018-11-07 22:00:00</td>\n",
       "      <td>232.03</td>\n",
       "      <td>2018</td>\n",
       "      <td>11</td>\n",
       "      <td>22</td>\n",
       "    </tr>\n",
       "    <tr>\n",
       "      <th>32</th>\n",
       "      <td>2018-11-08 01:00:00</td>\n",
       "      <td>169.15</td>\n",
       "      <td>2018</td>\n",
       "      <td>11</td>\n",
       "      <td>1</td>\n",
       "    </tr>\n",
       "    <tr>\n",
       "      <th>...</th>\n",
       "      <td>...</td>\n",
       "      <td>...</td>\n",
       "      <td>...</td>\n",
       "      <td>...</td>\n",
       "      <td>...</td>\n",
       "    </tr>\n",
       "    <tr>\n",
       "      <th>22451</th>\n",
       "      <td>2020-11-14 19:00:00</td>\n",
       "      <td>196.88</td>\n",
       "      <td>2020</td>\n",
       "      <td>11</td>\n",
       "      <td>19</td>\n",
       "    </tr>\n",
       "    <tr>\n",
       "      <th>22452</th>\n",
       "      <td>2020-11-14 20:00:00</td>\n",
       "      <td>178.61</td>\n",
       "      <td>2020</td>\n",
       "      <td>11</td>\n",
       "      <td>20</td>\n",
       "    </tr>\n",
       "    <tr>\n",
       "      <th>22455</th>\n",
       "      <td>2020-11-14 23:00:00</td>\n",
       "      <td>181.07</td>\n",
       "      <td>2020</td>\n",
       "      <td>11</td>\n",
       "      <td>23</td>\n",
       "    </tr>\n",
       "    <tr>\n",
       "      <th>22456</th>\n",
       "      <td>2020-11-15 00:00:00</td>\n",
       "      <td>193.80</td>\n",
       "      <td>2020</td>\n",
       "      <td>11</td>\n",
       "      <td>0</td>\n",
       "    </tr>\n",
       "    <tr>\n",
       "      <th>22457</th>\n",
       "      <td>2020-11-15 01:00:00</td>\n",
       "      <td>172.04</td>\n",
       "      <td>2020</td>\n",
       "      <td>11</td>\n",
       "      <td>1</td>\n",
       "    </tr>\n",
       "  </tbody>\n",
       "</table></div>"
      ],
      "text/plain": [
       "                 DateTime   PM2.5  Year  Month  Hour\n",
       "6     2018-01-06 17:00:00  150.89  2018      1    17\n",
       "7     2018-11-07 21:00:00  245.63  2018     11    21\n",
       "8     2018-11-08 00:00:00  175.19  2018     11     0\n",
       "31    2018-11-07 22:00:00  232.03  2018     11    22\n",
       "32    2018-11-08 01:00:00  169.15  2018     11     1\n",
       "55    2018-11-07 20:00:00  223.21  2018     11    20\n",
       "56    2018-11-08 03:00:00  160.34  2018     11     3\n",
       "79    2018-11-07 18:00:00  212.56  2018     11    18\n",
       "103   2018-11-07 19:00:00  207.41  2018     11    19\n",
       "126   2018-11-07 17:00:00  183.19  2018     11    17\n",
       "143   2018-11-07 23:00:00  173.67  2018     11    23\n",
       "284   2018-01-13 16:00:00  165.45  2018      1    16\n",
       "285   2018-01-13 17:00:00  177.58  2018      1    17\n",
       "286   2018-01-13 18:00:00  175.32  2018      1    18\n",
       "287   2018-01-13 19:00:00  166.60  2018      1    19\n",
       "7578  2019-02-01 17:00:00  165.82  2019      2    17\n",
       "7579  2019-02-01 18:00:00  157.99  2019      2    18\n",
       "13697 2019-10-27 22:00:00  151.52  2019     10    22\n",
       "13698 2019-10-27 23:00:00  219.07  2019     10    23\n",
       "13699 2019-10-28 00:00:00  234.83  2019     10     0\n",
       "13700 2019-10-28 01:00:00  230.05  2019     10     1\n",
       "13701 2019-10-28 02:00:00  176.81  2019     10     2\n",
       "22450 2020-11-14 18:00:00  183.39  2020     11    18\n",
       "22451 2020-11-14 19:00:00  196.88  2020     11    19\n",
       "22452 2020-11-14 20:00:00  178.61  2020     11    20\n",
       "22455 2020-11-14 23:00:00  181.07  2020     11    23\n",
       "22456 2020-11-15 00:00:00  193.80  2020     11     0\n",
       "22457 2020-11-15 01:00:00  172.04  2020     11     1"
      ]
     },
     "execution_count": 59,
     "metadata": {},
     "output_type": "execute_result"
    }
   ],
   "source": [
    "x"
   ]
  },
  {
   "cell_type": "code",
   "execution_count": 60,
   "id": "113568f2-0604-4953-9177-9237ad26d608",
   "metadata": {},
   "outputs": [
    {
     "data": {
      "text/plain": [
       "Month\n",
       "11    16\n",
       "1      5\n",
       "10     5\n",
       "2      2\n",
       "dtype: int64"
      ]
     },
     "execution_count": 60,
     "metadata": {},
     "output_type": "execute_result"
    }
   ],
   "source": [
    "x.value_counts(\"Month\")"
   ]
  },
  {
   "cell_type": "code",
   "execution_count": null,
   "id": "8ac9007a-e202-4293-996f-dc826f9bed4f",
   "metadata": {},
   "outputs": [],
   "source": []
  },
  {
   "cell_type": "markdown",
   "id": "ef2f7037-24d3-4b4c-8d12-839ff8176229",
   "metadata": {},
   "source": [
    "Usually in which months,the air was fresh(good)\n",
    "\n",
    "Genelde hangi aylarda hava tazeydi(iyi)"
   ]
  },
  {
   "cell_type": "code",
   "execution_count": 61,
   "id": "1cddead8-9749-4477-b043-bd3c5adab2c1",
   "metadata": {},
   "outputs": [
    {
     "data": {
      "text/html": [
       "<div><div id=5af9946b-8e74-4a77-9865-57aa8ec03464 style=\"display:none; background-color:#9D6CFF; color:white; width:200px; height:30px; padding-left:5px; border-radius:4px; flex-direction:row; justify-content:space-around; align-items:center;\" onmouseover=\"this.style.backgroundColor='#BA9BF8'\" onmouseout=\"this.style.backgroundColor='#9D6CFF'\" onclick=\"window.commands?.execute('create-mitosheet-from-dataframe-output');\">See Full Dataframe in Mito</div> <script> if (window.commands.hasCommand('create-mitosheet-from-dataframe-output')) document.getElementById('5af9946b-8e74-4a77-9865-57aa8ec03464').style.display = 'flex' </script> <table border=\"1\" class=\"dataframe\">\n",
       "  <thead>\n",
       "    <tr style=\"text-align: right;\">\n",
       "      <th></th>\n",
       "      <th>DateTime</th>\n",
       "      <th>PM2.5</th>\n",
       "      <th>Year</th>\n",
       "      <th>Month</th>\n",
       "      <th>Hour</th>\n",
       "    </tr>\n",
       "  </thead>\n",
       "  <tbody>\n",
       "    <tr>\n",
       "      <th>0</th>\n",
       "      <td>2018-01-01 00:00:00</td>\n",
       "      <td>90.19</td>\n",
       "      <td>2018</td>\n",
       "      <td>1</td>\n",
       "      <td>0</td>\n",
       "    </tr>\n",
       "    <tr>\n",
       "      <th>1</th>\n",
       "      <td>2018-01-01 01:00:00</td>\n",
       "      <td>86.98</td>\n",
       "      <td>2018</td>\n",
       "      <td>1</td>\n",
       "      <td>1</td>\n",
       "    </tr>\n",
       "    <tr>\n",
       "      <th>2</th>\n",
       "      <td>2018-01-01 02:00:00</td>\n",
       "      <td>86.06</td>\n",
       "      <td>2018</td>\n",
       "      <td>1</td>\n",
       "      <td>2</td>\n",
       "    </tr>\n",
       "    <tr>\n",
       "      <th>3</th>\n",
       "      <td>2018-01-01 03:00:00</td>\n",
       "      <td>94.04</td>\n",
       "      <td>2018</td>\n",
       "      <td>1</td>\n",
       "      <td>3</td>\n",
       "    </tr>\n",
       "    <tr>\n",
       "      <th>4</th>\n",
       "      <td>2018-01-01 04:00:00</td>\n",
       "      <td>108.78</td>\n",
       "      <td>2018</td>\n",
       "      <td>1</td>\n",
       "      <td>4</td>\n",
       "    </tr>\n",
       "  </tbody>\n",
       "</table></div>"
      ],
      "text/plain": [
       "             DateTime   PM2.5  Year  Month  Hour\n",
       "0 2018-01-01 00:00:00   90.19  2018      1     0\n",
       "1 2018-01-01 01:00:00   86.98  2018      1     1\n",
       "2 2018-01-01 02:00:00   86.06  2018      1     2\n",
       "3 2018-01-01 03:00:00   94.04  2018      1     3\n",
       "4 2018-01-01 04:00:00  108.78  2018      1     4"
      ]
     },
     "execution_count": 61,
     "metadata": {},
     "output_type": "execute_result"
    }
   ],
   "source": [
    "data.head()"
   ]
  },
  {
   "cell_type": "code",
   "execution_count": 62,
   "id": "6d931917-b58a-4c94-bf79-63ebce6210b4",
   "metadata": {},
   "outputs": [],
   "source": [
    "y=data[data[\"PM2.5\"]<=12.0]"
   ]
  },
  {
   "cell_type": "code",
   "execution_count": 63,
   "id": "59a9c9c5-490c-4bc7-9859-b4cc09793924",
   "metadata": {},
   "outputs": [
    {
     "data": {
      "text/plain": [
       "Month\n",
       "8    33\n",
       "7     6\n",
       "6     5\n",
       "1     3\n",
       "4     3\n",
       "5     2\n",
       "dtype: int64"
      ]
     },
     "execution_count": 63,
     "metadata": {},
     "output_type": "execute_result"
    }
   ],
   "source": [
    "y.value_counts(\"Month\")"
   ]
  },
  {
   "cell_type": "code",
   "execution_count": null,
   "id": "4795287e-0248-4889-aeab-a6abcb1763d4",
   "metadata": {},
   "outputs": [],
   "source": []
  },
  {
   "cell_type": "markdown",
   "id": "9257d73d-4fad-40ba-ad3c-81c280a47a19",
   "metadata": {},
   "source": [
    "In year 2018,how many times the AQI was recorded \"Moderate\"\n",
    "\n",
    "2018 yılında, AQI'nin kaç kez \"Orta\" olarak kaydedildiği"
   ]
  },
  {
   "cell_type": "code",
   "execution_count": 64,
   "id": "06940a35-5741-4983-9a67-395f972496ef",
   "metadata": {},
   "outputs": [
    {
     "data": {
      "text/html": [
       "<div><div id=9a884bea-270e-4fa1-b0fb-d72ce1fc508b style=\"display:none; background-color:#9D6CFF; color:white; width:200px; height:30px; padding-left:5px; border-radius:4px; flex-direction:row; justify-content:space-around; align-items:center;\" onmouseover=\"this.style.backgroundColor='#BA9BF8'\" onmouseout=\"this.style.backgroundColor='#9D6CFF'\" onclick=\"window.commands?.execute('create-mitosheet-from-dataframe-output');\">See Full Dataframe in Mito</div> <script> if (window.commands.hasCommand('create-mitosheet-from-dataframe-output')) document.getElementById('9a884bea-270e-4fa1-b0fb-d72ce1fc508b').style.display = 'flex' </script> <table border=\"1\" class=\"dataframe\">\n",
       "  <thead>\n",
       "    <tr style=\"text-align: right;\">\n",
       "      <th></th>\n",
       "      <th>DateTime</th>\n",
       "      <th>PM2.5</th>\n",
       "      <th>Year</th>\n",
       "      <th>Month</th>\n",
       "      <th>Hour</th>\n",
       "    </tr>\n",
       "  </thead>\n",
       "  <tbody>\n",
       "    <tr>\n",
       "      <th>0</th>\n",
       "      <td>2018-01-01 00:00:00</td>\n",
       "      <td>90.19</td>\n",
       "      <td>2018</td>\n",
       "      <td>1</td>\n",
       "      <td>0</td>\n",
       "    </tr>\n",
       "    <tr>\n",
       "      <th>1</th>\n",
       "      <td>2018-01-01 01:00:00</td>\n",
       "      <td>86.98</td>\n",
       "      <td>2018</td>\n",
       "      <td>1</td>\n",
       "      <td>1</td>\n",
       "    </tr>\n",
       "    <tr>\n",
       "      <th>2</th>\n",
       "      <td>2018-01-01 02:00:00</td>\n",
       "      <td>86.06</td>\n",
       "      <td>2018</td>\n",
       "      <td>1</td>\n",
       "      <td>2</td>\n",
       "    </tr>\n",
       "    <tr>\n",
       "      <th>3</th>\n",
       "      <td>2018-01-01 03:00:00</td>\n",
       "      <td>94.04</td>\n",
       "      <td>2018</td>\n",
       "      <td>1</td>\n",
       "      <td>3</td>\n",
       "    </tr>\n",
       "    <tr>\n",
       "      <th>4</th>\n",
       "      <td>2018-01-01 04:00:00</td>\n",
       "      <td>108.78</td>\n",
       "      <td>2018</td>\n",
       "      <td>1</td>\n",
       "      <td>4</td>\n",
       "    </tr>\n",
       "  </tbody>\n",
       "</table></div>"
      ],
      "text/plain": [
       "             DateTime   PM2.5  Year  Month  Hour\n",
       "0 2018-01-01 00:00:00   90.19  2018      1     0\n",
       "1 2018-01-01 01:00:00   86.98  2018      1     1\n",
       "2 2018-01-01 02:00:00   86.06  2018      1     2\n",
       "3 2018-01-01 03:00:00   94.04  2018      1     3\n",
       "4 2018-01-01 04:00:00  108.78  2018      1     4"
      ]
     },
     "execution_count": 64,
     "metadata": {},
     "output_type": "execute_result"
    }
   ],
   "source": [
    "data.head()"
   ]
  },
  {
   "cell_type": "code",
   "execution_count": 65,
   "id": "86521093-7c47-457b-8604-a2a33394fe34",
   "metadata": {},
   "outputs": [],
   "source": [
    "z=data[(data[\"Year\"]==2018) & (data[\"PM2.5\"]>=12.1) & (data[\"PM2.5\"]<=35.4)]"
   ]
  },
  {
   "cell_type": "code",
   "execution_count": 67,
   "id": "ad321c3f-56a1-4941-af57-10e45adee262",
   "metadata": {},
   "outputs": [
    {
     "data": {
      "text/plain": [
       "array([2018], dtype=int64)"
      ]
     },
     "execution_count": 67,
     "metadata": {},
     "output_type": "execute_result"
    }
   ],
   "source": [
    "z.Year.unique()"
   ]
  },
  {
   "cell_type": "code",
   "execution_count": 69,
   "id": "150a2f81-b932-4846-b994-758b708c03db",
   "metadata": {},
   "outputs": [
    {
     "data": {
      "text/plain": [
       "1820     33.34\n",
       "2038     35.39\n",
       "2215     28.90\n",
       "2306     34.83\n",
       "2307     33.50\n",
       "         ...  \n",
       "9981     19.75\n",
       "9982     19.27\n",
       "9983     18.96\n",
       "10004    17.45\n",
       "10006    18.77\n",
       "Name: PM2.5, Length: 2239, dtype: float64"
      ]
     },
     "execution_count": 69,
     "metadata": {},
     "output_type": "execute_result"
    }
   ],
   "source": [
    "z[\"PM2.5\"]"
   ]
  },
  {
   "cell_type": "code",
   "execution_count": null,
   "id": "6b39bb59-beaa-4793-b7a8-f4d861fa6381",
   "metadata": {},
   "outputs": [],
   "source": []
  },
  {
   "cell_type": "markdown",
   "id": "aa4bc59f-c95c-4609-8509-3c26919211c8",
   "metadata": {},
   "source": [
    "How was the weather in the month of January and July\n",
    "\n",
    "Ocak ve Temmuz aylarında hava nasıldı?"
   ]
  },
  {
   "cell_type": "code",
   "execution_count": 70,
   "id": "c6b6ae2d-92c1-42fc-8028-771ce0c10d7e",
   "metadata": {},
   "outputs": [
    {
     "data": {
      "text/html": [
       "<div><div id=e0ddd1f6-0436-444c-b4b8-4b5f6da680ca style=\"display:none; background-color:#9D6CFF; color:white; width:200px; height:30px; padding-left:5px; border-radius:4px; flex-direction:row; justify-content:space-around; align-items:center;\" onmouseover=\"this.style.backgroundColor='#BA9BF8'\" onmouseout=\"this.style.backgroundColor='#9D6CFF'\" onclick=\"window.commands?.execute('create-mitosheet-from-dataframe-output');\">See Full Dataframe in Mito</div> <script> if (window.commands.hasCommand('create-mitosheet-from-dataframe-output')) document.getElementById('e0ddd1f6-0436-444c-b4b8-4b5f6da680ca').style.display = 'flex' </script> <table border=\"1\" class=\"dataframe\">\n",
       "  <thead>\n",
       "    <tr style=\"text-align: right;\">\n",
       "      <th></th>\n",
       "      <th>DateTime</th>\n",
       "      <th>PM2.5</th>\n",
       "      <th>Year</th>\n",
       "      <th>Month</th>\n",
       "      <th>Hour</th>\n",
       "    </tr>\n",
       "  </thead>\n",
       "  <tbody>\n",
       "    <tr>\n",
       "      <th>0</th>\n",
       "      <td>2018-01-01 00:00:00</td>\n",
       "      <td>90.19</td>\n",
       "      <td>2018</td>\n",
       "      <td>1</td>\n",
       "      <td>0</td>\n",
       "    </tr>\n",
       "    <tr>\n",
       "      <th>1</th>\n",
       "      <td>2018-01-01 01:00:00</td>\n",
       "      <td>86.98</td>\n",
       "      <td>2018</td>\n",
       "      <td>1</td>\n",
       "      <td>1</td>\n",
       "    </tr>\n",
       "    <tr>\n",
       "      <th>2</th>\n",
       "      <td>2018-01-01 02:00:00</td>\n",
       "      <td>86.06</td>\n",
       "      <td>2018</td>\n",
       "      <td>1</td>\n",
       "      <td>2</td>\n",
       "    </tr>\n",
       "    <tr>\n",
       "      <th>3</th>\n",
       "      <td>2018-01-01 03:00:00</td>\n",
       "      <td>94.04</td>\n",
       "      <td>2018</td>\n",
       "      <td>1</td>\n",
       "      <td>3</td>\n",
       "    </tr>\n",
       "    <tr>\n",
       "      <th>4</th>\n",
       "      <td>2018-01-01 04:00:00</td>\n",
       "      <td>108.78</td>\n",
       "      <td>2018</td>\n",
       "      <td>1</td>\n",
       "      <td>4</td>\n",
       "    </tr>\n",
       "  </tbody>\n",
       "</table></div>"
      ],
      "text/plain": [
       "             DateTime   PM2.5  Year  Month  Hour\n",
       "0 2018-01-01 00:00:00   90.19  2018      1     0\n",
       "1 2018-01-01 01:00:00   86.98  2018      1     1\n",
       "2 2018-01-01 02:00:00   86.06  2018      1     2\n",
       "3 2018-01-01 03:00:00   94.04  2018      1     3\n",
       "4 2018-01-01 04:00:00  108.78  2018      1     4"
      ]
     },
     "execution_count": 70,
     "metadata": {},
     "output_type": "execute_result"
    }
   ],
   "source": [
    "data.head()"
   ]
  },
  {
   "cell_type": "code",
   "execution_count": 73,
   "id": "8ca418da-9899-48d9-a549-319dc411238a",
   "metadata": {},
   "outputs": [
    {
     "data": {
      "text/plain": [
       "65.82906685236769"
      ]
     },
     "execution_count": 73,
     "metadata": {},
     "output_type": "execute_result"
    }
   ],
   "source": [
    "data[data[\"Month\"]==1][\"PM2.5\"].mean() #unhealthy"
   ]
  },
  {
   "cell_type": "code",
   "execution_count": 74,
   "id": "6126234f-bb4a-4951-92ee-cd6fd84992c0",
   "metadata": {},
   "outputs": [
    {
     "data": {
      "text/plain": [
       "31.88416146645866"
      ]
     },
     "execution_count": 74,
     "metadata": {},
     "output_type": "execute_result"
    }
   ],
   "source": [
    "data[data[\"Month\"]==7][\"PM2.5\"].mean() #moderate"
   ]
  },
  {
   "cell_type": "code",
   "execution_count": null,
   "id": "59f52c59-4782-4115-9ff6-2b604004963b",
   "metadata": {},
   "outputs": [],
   "source": []
  }
 ],
 "metadata": {
  "kernelspec": {
   "display_name": "Python 3 (ipykernel)",
   "language": "python",
   "name": "python3"
  },
  "language_info": {
   "codemirror_mode": {
    "name": "ipython",
    "version": 3
   },
   "file_extension": ".py",
   "mimetype": "text/x-python",
   "name": "python",
   "nbconvert_exporter": "python",
   "pygments_lexer": "ipython3",
   "version": "3.10.2"
  }
 },
 "nbformat": 4,
 "nbformat_minor": 5
}
