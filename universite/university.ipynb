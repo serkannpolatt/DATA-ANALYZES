{
 "cells": [
  {
   "cell_type": "code",
   "execution_count": 33,
   "id": "5ad5b5b4-960f-4eeb-a928-5b1e65168c54",
   "metadata": {},
   "outputs": [
    {
     "data": {
      "text/html": [
       "        <script type=\"text/javascript\">\n",
       "        window.PlotlyConfig = {MathJaxConfig: 'local'};\n",
       "        if (window.MathJax) {MathJax.Hub.Config({SVG: {font: \"STIX-Web\"}});}\n",
       "        if (typeof require !== 'undefined') {\n",
       "        require.undef(\"plotly\");\n",
       "        requirejs.config({\n",
       "            paths: {\n",
       "                'plotly': ['https://cdn.plot.ly/plotly-2.9.0.min']\n",
       "            }\n",
       "        });\n",
       "        require(['plotly'], function(Plotly) {\n",
       "            window._Plotly = Plotly;\n",
       "        });\n",
       "        }\n",
       "        </script>\n",
       "        "
      ]
     },
     "metadata": {},
     "output_type": "display_data"
    }
   ],
   "source": [
    "import pandas as pd\n",
    "import matplotlib.pyplot as plt\n",
    "import numpy as np \n",
    "import plotly as py\n",
    "import warnings \n",
    "warnings.filterwarnings(\"ignore\")\n",
    "\n",
    "from plotly.offline import init_notebook_mode, iplot, plot\n",
    "init_notebook_mode(connected=True)\n",
    "import plotly.graph_objs as go\n",
    "import plotly.io as pio\n",
    "import plotly.figure_factory as ff"
   ]
  },
  {
   "cell_type": "code",
   "execution_count": 34,
   "id": "936964ea-e84c-4a2d-a6aa-50f04d16ab25",
   "metadata": {},
   "outputs": [
    {
     "data": {
      "text/html": [
       "<div>\n",
       "<style scoped>\n",
       "    .dataframe tbody tr th:only-of-type {\n",
       "        vertical-align: middle;\n",
       "    }\n",
       "\n",
       "    .dataframe tbody tr th {\n",
       "        vertical-align: top;\n",
       "    }\n",
       "\n",
       "    .dataframe thead th {\n",
       "        text-align: right;\n",
       "    }\n",
       "</style>\n",
       "<table border=\"1\" class=\"dataframe\">\n",
       "  <thead>\n",
       "    <tr style=\"text-align: right;\">\n",
       "      <th></th>\n",
       "      <th>world_rank</th>\n",
       "      <th>university_name</th>\n",
       "      <th>country</th>\n",
       "      <th>teaching</th>\n",
       "      <th>international</th>\n",
       "      <th>research</th>\n",
       "      <th>citations</th>\n",
       "      <th>income</th>\n",
       "      <th>total_score</th>\n",
       "      <th>num_students</th>\n",
       "      <th>student_staff_ratio</th>\n",
       "      <th>international_students</th>\n",
       "      <th>female_male_ratio</th>\n",
       "      <th>year</th>\n",
       "    </tr>\n",
       "  </thead>\n",
       "  <tbody>\n",
       "    <tr>\n",
       "      <th>0</th>\n",
       "      <td>1</td>\n",
       "      <td>Harvard University</td>\n",
       "      <td>United States of America</td>\n",
       "      <td>99.7</td>\n",
       "      <td>72.4</td>\n",
       "      <td>98.7</td>\n",
       "      <td>98.8</td>\n",
       "      <td>34.5</td>\n",
       "      <td>96.1</td>\n",
       "      <td>20,152</td>\n",
       "      <td>8.9</td>\n",
       "      <td>25%</td>\n",
       "      <td>NaN</td>\n",
       "      <td>2011</td>\n",
       "    </tr>\n",
       "    <tr>\n",
       "      <th>1</th>\n",
       "      <td>2</td>\n",
       "      <td>California Institute of Technology</td>\n",
       "      <td>United States of America</td>\n",
       "      <td>97.7</td>\n",
       "      <td>54.6</td>\n",
       "      <td>98.0</td>\n",
       "      <td>99.9</td>\n",
       "      <td>83.7</td>\n",
       "      <td>96.0</td>\n",
       "      <td>2,243</td>\n",
       "      <td>6.9</td>\n",
       "      <td>27%</td>\n",
       "      <td>33 : 67</td>\n",
       "      <td>2011</td>\n",
       "    </tr>\n",
       "    <tr>\n",
       "      <th>2</th>\n",
       "      <td>3</td>\n",
       "      <td>Massachusetts Institute of Technology</td>\n",
       "      <td>United States of America</td>\n",
       "      <td>97.8</td>\n",
       "      <td>82.3</td>\n",
       "      <td>91.4</td>\n",
       "      <td>99.9</td>\n",
       "      <td>87.5</td>\n",
       "      <td>95.6</td>\n",
       "      <td>11,074</td>\n",
       "      <td>9.0</td>\n",
       "      <td>33%</td>\n",
       "      <td>37 : 63</td>\n",
       "      <td>2011</td>\n",
       "    </tr>\n",
       "    <tr>\n",
       "      <th>3</th>\n",
       "      <td>4</td>\n",
       "      <td>Stanford University</td>\n",
       "      <td>United States of America</td>\n",
       "      <td>98.3</td>\n",
       "      <td>29.5</td>\n",
       "      <td>98.1</td>\n",
       "      <td>99.2</td>\n",
       "      <td>64.3</td>\n",
       "      <td>94.3</td>\n",
       "      <td>15,596</td>\n",
       "      <td>7.8</td>\n",
       "      <td>22%</td>\n",
       "      <td>42 : 58</td>\n",
       "      <td>2011</td>\n",
       "    </tr>\n",
       "    <tr>\n",
       "      <th>4</th>\n",
       "      <td>5</td>\n",
       "      <td>Princeton University</td>\n",
       "      <td>United States of America</td>\n",
       "      <td>90.9</td>\n",
       "      <td>70.3</td>\n",
       "      <td>95.4</td>\n",
       "      <td>99.9</td>\n",
       "      <td>-</td>\n",
       "      <td>94.2</td>\n",
       "      <td>7,929</td>\n",
       "      <td>8.4</td>\n",
       "      <td>27%</td>\n",
       "      <td>45 : 55</td>\n",
       "      <td>2011</td>\n",
       "    </tr>\n",
       "  </tbody>\n",
       "</table>\n",
       "</div>"
      ],
      "text/plain": [
       "  world_rank                        university_name                   country  \\\n",
       "0          1                     Harvard University  United States of America   \n",
       "1          2     California Institute of Technology  United States of America   \n",
       "2          3  Massachusetts Institute of Technology  United States of America   \n",
       "3          4                    Stanford University  United States of America   \n",
       "4          5                   Princeton University  United States of America   \n",
       "\n",
       "   teaching international  research  citations income total_score  \\\n",
       "0      99.7          72.4      98.7       98.8   34.5        96.1   \n",
       "1      97.7          54.6      98.0       99.9   83.7        96.0   \n",
       "2      97.8          82.3      91.4       99.9   87.5        95.6   \n",
       "3      98.3          29.5      98.1       99.2   64.3        94.3   \n",
       "4      90.9          70.3      95.4       99.9      -        94.2   \n",
       "\n",
       "  num_students  student_staff_ratio international_students female_male_ratio  \\\n",
       "0       20,152                  8.9                    25%               NaN   \n",
       "1        2,243                  6.9                    27%           33 : 67   \n",
       "2       11,074                  9.0                    33%           37 : 63   \n",
       "3       15,596                  7.8                    22%           42 : 58   \n",
       "4        7,929                  8.4                    27%           45 : 55   \n",
       "\n",
       "   year  \n",
       "0  2011  \n",
       "1  2011  \n",
       "2  2011  \n",
       "3  2011  \n",
       "4  2011  "
      ]
     },
     "execution_count": 34,
     "metadata": {},
     "output_type": "execute_result"
    }
   ],
   "source": [
    "veri=pd.read_csv(\"universite_siralamasi.csv\")\n",
    "veri.head()"
   ]
  },
  {
   "cell_type": "code",
   "execution_count": 35,
   "id": "2f442d70-5c8d-4dbe-8682-a9d98136c4c2",
   "metadata": {},
   "outputs": [
    {
     "data": {
      "text/plain": [
       "Index(['world_rank', 'university_name', 'country', 'teaching', 'international',\n",
       "       'research', 'citations', 'income', 'total_score', 'num_students',\n",
       "       'student_staff_ratio', 'international_students', 'female_male_ratio',\n",
       "       'year'],\n",
       "      dtype='object')"
      ]
     },
     "execution_count": 35,
     "metadata": {},
     "output_type": "execute_result"
    }
   ],
   "source": [
    "veri. columns"
   ]
  },
  {
   "cell_type": "code",
   "execution_count": 36,
   "id": "9e094aba-4412-45e2-9eca-6349cbdd82b9",
   "metadata": {},
   "outputs": [],
   "source": [
    "veri.rename(columns={'world_rank' : \"dunya_siralaması\",\n",
    "                'university_name': \"universite_adi\",\n",
    "                 'country'       : \"ülke\",\n",
    "                 'teaching'      : \"ögretim\",\n",
    "                  'international': \"uluslararasi\",\n",
    "                  'research'     : \"araştırma\",\n",
    "                  'citations'    : \"alinti\",\n",
    "                  'income'       : \"gelir\",\n",
    "                  'total_score'  : \"toplam_puan\",\n",
    "                  'num_students' : \"ogrenci_sayisi\",\n",
    "            'student_staff_ratio': \"ogrenci_calisan_orani\",\n",
    "        'international_students' : \"uluslararası_ogrenci\",\n",
    "            'female_male_ratio'  : \"kadin_erkek_ogrenci\",\n",
    "                    'year'       : \"yıl\"},inplace=True)\n",
    "             \n",
    "            "
   ]
  },
  {
   "cell_type": "code",
   "execution_count": 37,
   "id": "60b4c0d2-1d68-4775-bd06-e4d250650503",
   "metadata": {},
   "outputs": [
    {
     "data": {
      "text/plain": [
       "Index(['dunya_siralaması', 'universite_adi', 'ülke', 'ögretim', 'uluslararasi',\n",
       "       'araştırma', 'alinti', 'gelir', 'toplam_puan', 'ogrenci_sayisi',\n",
       "       'ogrenci_calisan_orani', 'uluslararası_ogrenci', 'kadin_erkek_ogrenci',\n",
       "       'yıl'],\n",
       "      dtype='object')"
      ]
     },
     "execution_count": 37,
     "metadata": {},
     "output_type": "execute_result"
    }
   ],
   "source": [
    "veri.columns"
   ]
  },
  {
   "cell_type": "code",
   "execution_count": 38,
   "id": "84599ca5-9882-42cb-968d-e73c105294d5",
   "metadata": {},
   "outputs": [
    {
     "data": {
      "text/html": [
       "<div>\n",
       "<style scoped>\n",
       "    .dataframe tbody tr th:only-of-type {\n",
       "        vertical-align: middle;\n",
       "    }\n",
       "\n",
       "    .dataframe tbody tr th {\n",
       "        vertical-align: top;\n",
       "    }\n",
       "\n",
       "    .dataframe thead th {\n",
       "        text-align: right;\n",
       "    }\n",
       "</style>\n",
       "<table border=\"1\" class=\"dataframe\">\n",
       "  <thead>\n",
       "    <tr style=\"text-align: right;\">\n",
       "      <th></th>\n",
       "      <th>dunya_siralaması</th>\n",
       "      <th>universite_adi</th>\n",
       "      <th>ülke</th>\n",
       "      <th>ögretim</th>\n",
       "      <th>uluslararasi</th>\n",
       "      <th>araştırma</th>\n",
       "      <th>alinti</th>\n",
       "      <th>gelir</th>\n",
       "      <th>toplam_puan</th>\n",
       "      <th>ogrenci_sayisi</th>\n",
       "      <th>ogrenci_calisan_orani</th>\n",
       "      <th>uluslararası_ogrenci</th>\n",
       "      <th>kadin_erkek_ogrenci</th>\n",
       "      <th>yıl</th>\n",
       "    </tr>\n",
       "  </thead>\n",
       "  <tbody>\n",
       "    <tr>\n",
       "      <th>0</th>\n",
       "      <td>1</td>\n",
       "      <td>Harvard University</td>\n",
       "      <td>United States of America</td>\n",
       "      <td>99.7</td>\n",
       "      <td>72.4</td>\n",
       "      <td>98.7</td>\n",
       "      <td>98.8</td>\n",
       "      <td>34.5</td>\n",
       "      <td>96.1</td>\n",
       "      <td>20,152</td>\n",
       "      <td>8.9</td>\n",
       "      <td>25%</td>\n",
       "      <td>NaN</td>\n",
       "      <td>2011</td>\n",
       "    </tr>\n",
       "  </tbody>\n",
       "</table>\n",
       "</div>"
      ],
      "text/plain": [
       "  dunya_siralaması      universite_adi                      ülke  ögretim  \\\n",
       "0                1  Harvard University  United States of America     99.7   \n",
       "\n",
       "  uluslararasi  araştırma  alinti gelir toplam_puan ogrenci_sayisi  \\\n",
       "0         72.4       98.7    98.8  34.5        96.1         20,152   \n",
       "\n",
       "   ogrenci_calisan_orani uluslararası_ogrenci kadin_erkek_ogrenci   yıl  \n",
       "0                    8.9                  25%                 NaN  2011  "
      ]
     },
     "execution_count": 38,
     "metadata": {},
     "output_type": "execute_result"
    }
   ],
   "source": [
    "df=veri.iloc[:100,:]\n",
    "df.head(1)"
   ]
  },
  {
   "cell_type": "code",
   "execution_count": 39,
   "id": "02436a21-478f-4dfd-9380-d468eadbe19d",
   "metadata": {},
   "outputs": [],
   "source": [
    "pio.templates.default=\"simple_white\""
   ]
  },
  {
   "cell_type": "code",
   "execution_count": 40,
   "id": "7f5b0caf-3a99-419d-84e5-96af901a2f2d",
   "metadata": {},
   "outputs": [
    {
     "data": {
      "text/plain": [
       "'1_cizgi-alıntı ve öğretim puanları.html'"
      ]
     },
     "execution_count": 40,
     "metadata": {},
     "output_type": "execute_result"
    }
   ],
   "source": [
    "cizgi1=go.Scatter(x=df.dunya_siralaması,\n",
    "                  y=df.alinti,\n",
    "                  mode=\"lines+markers\",\n",
    "                  name=\"Alıntı\",\n",
    "                  marker=dict(color='rgba(78,78,250,0.85)'),\n",
    "                  text=df.universite_adi)\n",
    "\n",
    "cizgi2=go.Scatter(x=df.dunya_siralaması,\n",
    "                  y=df.ögretim,\n",
    "                  mode=\"lines+markers\",\n",
    "                  name=\"Eğitim-Öğretim Faaliyetleri\",\n",
    "                  marker=dict(color='rgba(78,78,250,0.85)'),\n",
    "                  text=df.universite_adi)\n",
    "\n",
    "veri=[cizgi1,cizgi2]\n",
    "yerlesim=dict(title=\"Dünya Sıralamasında İlk 100 Üniversitenin Atıf ve Eğitin-Öğretim Puanları\",\n",
    "             xaxis=dict(title=\"Dünya Sıralaması\",ticklen=5,zeroline=False))\n",
    "fig=dict(data=veri,layout=yerlesim)\n",
    "plot(fig,filename='1_cizgi-alıntı ve öğretim puanları.html')"
   ]
  },
  {
   "cell_type": "code",
   "execution_count": 41,
   "id": "513541e7-914d-4bb3-bc8a-d5a822903d8b",
   "metadata": {},
   "outputs": [
    {
     "data": {
      "text/plain": [
       "'2_cubuk-alıntı ve öğretim puanları.html'"
      ]
     },
     "execution_count": 41,
     "metadata": {},
     "output_type": "execute_result"
    }
   ],
   "source": [
    "veri2014=df[df.yıl==2011].iloc[:5,:]\n",
    "\n",
    "cizgi1=go.Bar(x=veri2014.universite_adi,\n",
    "                  y=veri2014.alinti,\n",
    "                  name=\"alıntı\",\n",
    "                  marker=dict(color='rgba(255,127,40,0.5)',\n",
    "                  line=dict(color='rgb(0,0,0)',width=1.5)),\n",
    "                  text=veri2014.ülke)\n",
    "\n",
    "cizgi2=go.Bar(x=veri2014.dunya_siralaması,\n",
    "                  y=veri2014.ögretim,                 \n",
    "                  name=\"Eğitim-Öğretim Faaliyetleri\",\n",
    "                  marker=dict(color='rgba(64,10,128,0.5)',\n",
    "                  line=dict(color='rgb(0,0,0)',width=1.5)),\n",
    "                  text=veri2014.ülke)\n",
    "\n",
    "veri_=[cizgi1,cizgi2]\n",
    "yerlesim=go.Layout(barmode=\"group\")\n",
    "fig=go.Figure(data=veri_ ,layout=yerlesim)\n",
    "plot(fig,filename='2_cubuk-alıntı ve öğretim puanları.html')"
   ]
  },
  {
   "cell_type": "code",
   "execution_count": 45,
   "id": "88d20988-ecb9-4c4c-b3cd-b41992e5b060",
   "metadata": {},
   "outputs": [
    {
     "data": {
      "text/plain": [
       "'3_dairesel-öğrenci sayısı.html'"
      ]
     },
     "execution_count": 45,
     "metadata": {},
     "output_type": "execute_result"
    }
   ],
   "source": [
    "veri2011=df[df.yıl==2011].iloc[:8,:]\n",
    "dilim1=veri2011.ogrenci_sayisi\n",
    "dilim1_liste=[float(each.replace(\",\",\".\")) for each in veri2011.ogrenci_sayisi]\n",
    "etiketler=veri2011.universite_adi\n",
    "\n",
    "cizgi=go.Pie(labels=etiketler,\n",
    "             values=dilim1_liste,\n",
    "             hoverinfo='label+value+percent',\n",
    "             textinfo='value+percent',\n",
    "             textfont=dict(size=8),\n",
    "             rotation=180,\n",
    "             hole=0.3,\n",
    "             marker=dict(line=dict(color=\"#000000\",width=1)))\n",
    "\n",
    "veri_=[cizgi]\n",
    "yerlesim=dict(title=\"2011 Yılı - İlk 8 Üniversitesinin Öğrenci Sayıları Ve Oranları\",\n",
    "              legend=dict(orientation=\"h\"))\n",
    "fig=dict(data=veri_,layout=yerlesim)\n",
    "plot(fig,filename=\"3_dairesel-öğrenci sayısı.html\")"
   ]
  },
  {
   "cell_type": "code",
   "execution_count": 47,
   "id": "5da1f545-992e-4a8f-96bb-fd17ceac8cf6",
   "metadata": {},
   "outputs": [
    {
     "ename": "ValueError",
     "evalue": "could not convert string to float: '-'",
     "output_type": "error",
     "traceback": [
      "\u001b[1;31m---------------------------------------------------------------------------\u001b[0m",
      "\u001b[1;31mValueError\u001b[0m                                Traceback (most recent call last)",
      "Input \u001b[1;32mIn [47]\u001b[0m, in \u001b[0;36m<module>\u001b[1;34m\u001b[0m\n\u001b[0;32m      1\u001b[0m veri2011\u001b[38;5;241m=\u001b[39mdf[df\u001b[38;5;241m.\u001b[39myıl\u001b[38;5;241m==\u001b[39m\u001b[38;5;241m2011\u001b[39m]\u001b[38;5;241m.\u001b[39miloc[:\u001b[38;5;241m20\u001b[39m,:]\n\u001b[0;32m      2\u001b[0m ogrenci_sayisi\u001b[38;5;241m=\u001b[39m[\u001b[38;5;28mfloat\u001b[39m(each\u001b[38;5;241m.\u001b[39mreplace(\u001b[38;5;124m\"\u001b[39m\u001b[38;5;124m,\u001b[39m\u001b[38;5;124m\"\u001b[39m,\u001b[38;5;124m\"\u001b[39m\u001b[38;5;124m.\u001b[39m\u001b[38;5;124m\"\u001b[39m)) \u001b[38;5;28;01mfor\u001b[39;00m each \u001b[38;5;129;01min\u001b[39;00m veri2011\u001b[38;5;241m.\u001b[39mogrenci_sayisi]\n\u001b[1;32m----> 3\u001b[0m uluslararasi_renk\u001b[38;5;241m=\u001b[39m[\u001b[38;5;28mfloat\u001b[39m(each) \u001b[38;5;28;01mfor\u001b[39;00m each \u001b[38;5;129;01min\u001b[39;00m veri2011\u001b[38;5;241m.\u001b[39muluslararasi]\n\u001b[0;32m      4\u001b[0m data\u001b[38;5;241m=\u001b[39m[{\u001b[38;5;124m\"\u001b[39m\u001b[38;5;124my\u001b[39m\u001b[38;5;124m\"\u001b[39m:veri2011\u001b[38;5;241m.\u001b[39möğretim,\n\u001b[0;32m      5\u001b[0m        \u001b[38;5;124m\"\u001b[39m\u001b[38;5;124mx\u001b[39m\u001b[38;5;124m\"\u001b[39m:veri2011\u001b[38;5;241m.\u001b[39mdunya_siralaması,\n\u001b[0;32m      6\u001b[0m        \u001b[38;5;124m\"\u001b[39m\u001b[38;5;124mmode\u001b[39m\u001b[38;5;124m\"\u001b[39m:\u001b[38;5;124m\"\u001b[39m\u001b[38;5;124mmarkers\u001b[39m\u001b[38;5;124m\"\u001b[39m,\n\u001b[1;32m   (...)\u001b[0m\n\u001b[0;32m      9\u001b[0m                  \u001b[38;5;124m\"\u001b[39m\u001b[38;5;124mshowscale\u001b[39m\u001b[38;5;124m\"\u001b[39m:\u001b[38;5;28;01mTrue\u001b[39;00m},\n\u001b[0;32m     10\u001b[0m        \u001b[38;5;124m\"\u001b[39m\u001b[38;5;124mtext\u001b[39m\u001b[38;5;124m\"\u001b[39m:veri2011\u001b[38;5;241m.\u001b[39muniversite_adi}]\n\u001b[0;32m     12\u001b[0m plot(data,filename\u001b[38;5;241m=\u001b[39m\u001b[38;5;124m\"\u001b[39m\u001b[38;5;124m4_kabarcık-öğrenci sayısı.html\u001b[39m\u001b[38;5;124m\"\u001b[39m)\n",
      "Input \u001b[1;32mIn [47]\u001b[0m, in \u001b[0;36m<listcomp>\u001b[1;34m(.0)\u001b[0m\n\u001b[0;32m      1\u001b[0m veri2011\u001b[38;5;241m=\u001b[39mdf[df\u001b[38;5;241m.\u001b[39myıl\u001b[38;5;241m==\u001b[39m\u001b[38;5;241m2011\u001b[39m]\u001b[38;5;241m.\u001b[39miloc[:\u001b[38;5;241m20\u001b[39m,:]\n\u001b[0;32m      2\u001b[0m ogrenci_sayisi\u001b[38;5;241m=\u001b[39m[\u001b[38;5;28mfloat\u001b[39m(each\u001b[38;5;241m.\u001b[39mreplace(\u001b[38;5;124m\"\u001b[39m\u001b[38;5;124m,\u001b[39m\u001b[38;5;124m\"\u001b[39m,\u001b[38;5;124m\"\u001b[39m\u001b[38;5;124m.\u001b[39m\u001b[38;5;124m\"\u001b[39m)) \u001b[38;5;28;01mfor\u001b[39;00m each \u001b[38;5;129;01min\u001b[39;00m veri2011\u001b[38;5;241m.\u001b[39mogrenci_sayisi]\n\u001b[1;32m----> 3\u001b[0m uluslararasi_renk\u001b[38;5;241m=\u001b[39m[\u001b[38;5;28;43mfloat\u001b[39;49m\u001b[43m(\u001b[49m\u001b[43meach\u001b[49m\u001b[43m)\u001b[49m \u001b[38;5;28;01mfor\u001b[39;00m each \u001b[38;5;129;01min\u001b[39;00m veri2011\u001b[38;5;241m.\u001b[39muluslararasi]\n\u001b[0;32m      4\u001b[0m data\u001b[38;5;241m=\u001b[39m[{\u001b[38;5;124m\"\u001b[39m\u001b[38;5;124my\u001b[39m\u001b[38;5;124m\"\u001b[39m:veri2011\u001b[38;5;241m.\u001b[39möğretim,\n\u001b[0;32m      5\u001b[0m        \u001b[38;5;124m\"\u001b[39m\u001b[38;5;124mx\u001b[39m\u001b[38;5;124m\"\u001b[39m:veri2011\u001b[38;5;241m.\u001b[39mdunya_siralaması,\n\u001b[0;32m      6\u001b[0m        \u001b[38;5;124m\"\u001b[39m\u001b[38;5;124mmode\u001b[39m\u001b[38;5;124m\"\u001b[39m:\u001b[38;5;124m\"\u001b[39m\u001b[38;5;124mmarkers\u001b[39m\u001b[38;5;124m\"\u001b[39m,\n\u001b[1;32m   (...)\u001b[0m\n\u001b[0;32m      9\u001b[0m                  \u001b[38;5;124m\"\u001b[39m\u001b[38;5;124mshowscale\u001b[39m\u001b[38;5;124m\"\u001b[39m:\u001b[38;5;28;01mTrue\u001b[39;00m},\n\u001b[0;32m     10\u001b[0m        \u001b[38;5;124m\"\u001b[39m\u001b[38;5;124mtext\u001b[39m\u001b[38;5;124m\"\u001b[39m:veri2011\u001b[38;5;241m.\u001b[39muniversite_adi}]\n\u001b[0;32m     12\u001b[0m plot(data,filename\u001b[38;5;241m=\u001b[39m\u001b[38;5;124m\"\u001b[39m\u001b[38;5;124m4_kabarcık-öğrenci sayısı.html\u001b[39m\u001b[38;5;124m\"\u001b[39m)\n",
      "\u001b[1;31mValueError\u001b[0m: could not convert string to float: '-'"
     ]
    }
   ],
   "source": [
    "veri2011=df[df.yıl==2011].iloc[:20,:]\n",
    "ogrenci_sayisi=[float(each.replace(\",\",\".\")) for each in veri2011.ogrenci_sayisi]\n",
    "uluslararasi_renk=[float(each) for each in veri2011.uluslararasi]\n",
    "data=[{\"y\":veri2011.öğretim,\n",
    "       \"x\":veri2011.dunya_siralaması,\n",
    "       \"mode\":\"markers\",\n",
    "       \"marker\":{\"color\":uluslararasi_renk,\n",
    "                 \"size\":ogrenci_sayisi,\n",
    "                 \"showscale\":True},\n",
    "       \"text\":veri2011.universite_adi}]\n",
    "\n",
    "plot(data,filename=\"4_kabarcık-öğrenci sayısı.html\")"
   ]
  },
  {
   "cell_type": "code",
   "execution_count": null,
   "id": "1567de27-1330-4bbd-b18b-c657140a6cb7",
   "metadata": {},
   "outputs": [],
   "source": []
  },
  {
   "cell_type": "code",
   "execution_count": null,
   "id": "f3e1ba2b-db7c-4d0a-9831-432f5eab3ca0",
   "metadata": {},
   "outputs": [],
   "source": []
  },
  {
   "cell_type": "code",
   "execution_count": null,
   "id": "59ed9875-4992-402c-9683-a81cb7ad5298",
   "metadata": {},
   "outputs": [],
   "source": []
  },
  {
   "cell_type": "code",
   "execution_count": null,
   "id": "20895308-16d9-4aea-bdf1-2e7171d5d010",
   "metadata": {},
   "outputs": [],
   "source": []
  },
  {
   "cell_type": "code",
   "execution_count": null,
   "id": "37c7f681-dc4f-4d25-8d4a-06a24ccfd0d4",
   "metadata": {},
   "outputs": [],
   "source": []
  },
  {
   "cell_type": "code",
   "execution_count": null,
   "id": "d25fdb39-2369-42ab-a71b-eeb74ee327a4",
   "metadata": {},
   "outputs": [],
   "source": []
  },
  {
   "cell_type": "code",
   "execution_count": null,
   "id": "6b20b1ac-bcf0-4589-85c8-8d706982f5e7",
   "metadata": {},
   "outputs": [],
   "source": []
  },
  {
   "cell_type": "code",
   "execution_count": null,
   "id": "1728ad25-77db-46df-9728-7e41efea18fc",
   "metadata": {},
   "outputs": [],
   "source": []
  },
  {
   "cell_type": "code",
   "execution_count": null,
   "id": "ee714457-b456-4b3a-aca4-94f45f76b37f",
   "metadata": {},
   "outputs": [],
   "source": []
  }
 ],
 "metadata": {
  "kernelspec": {
   "display_name": "Python 3 (ipykernel)",
   "language": "python",
   "name": "python3"
  },
  "language_info": {
   "codemirror_mode": {
    "name": "ipython",
    "version": 3
   },
   "file_extension": ".py",
   "mimetype": "text/x-python",
   "name": "python",
   "nbconvert_exporter": "python",
   "pygments_lexer": "ipython3",
   "version": "3.10.2"
  }
 },
 "nbformat": 4,
 "nbformat_minor": 5
}
